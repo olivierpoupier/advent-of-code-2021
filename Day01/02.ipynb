{
 "cells": [
  {
   "cell_type": "markdown",
   "metadata": {},
   "source": [
    "Considering every single measurement isn't as useful as you expected: there's just too much noise in the data.\n",
    "\n",
    "Instead, consider sums of a <b>three-measurement sliding window.</b> Again considering the above example:\n",
    "<pre>\n",
    "<code>\n",
    "199  A      \n",
    "200  A B    \n",
    "208  A B C  \n",
    "210    B C D\n",
    "200  E   C D\n",
    "207  E F   D\n",
    "240  E F G  \n",
    "269    F G H\n",
    "260      G H\n",
    "263        H\n",
    "</code>\n",
    "</pre>\n",
    "Start by comparing the first and second three-measurement windows. The measurements in the first window are marked <code>A (199, 200, 208);</code> their sum is <code>199 + 200 + 208 = 607</code>. The second window is marked <code>B</code> <code>(200, 208, 210);</code> its sum is <code>618</code>. The sum of measurements in the second window is larger than the sum of the first, so this first comparison <b>increased.</b>\n",
    "\n",
    "Your goal now is to count <b>the number of times the sum of measurements in this sliding window increases</b> from the previous sum. So, compare <code>A</code> with <code>B</code>, then compare <code>B</code> with <code>C</code>, then <code>C</code> with <code>D</code>, and so on. Stop when there aren't enough measurements left to create a new three-measurement sum.\n",
    "\n",
    "In the above example, the sum of each three-measurement window is as follows:\n",
    "<pre>\n",
    "<code>\n",
    "A: 607 (N/A - no previous sum)\n",
    "B: 618 (increased)\n",
    "C: 618 (no change)\n",
    "D: 617 (decreased)\n",
    "E: 647 (increased)\n",
    "F: 716 (increased)\n",
    "G: 769 (increased)\n",
    "H: 792 (increased)\n",
    "</code>\n",
    "</pre>\n",
    "In this example, there are 5 sums that are larger than the previous sum.\n",
    "\n",
    "Consider sums of a three-measurement sliding window. <b>How many sums are larger than the previous sum?</b>"
   ]
  },
  {
   "cell_type": "code",
   "execution_count": 7,
   "metadata": {},
   "outputs": [
    {
     "name": "stdout",
     "output_type": "stream",
     "text": [
      "1783\n"
     ]
    }
   ],
   "source": [
    "with open('day01-input02.txt') as f:\n",
    "    lines = f.readlines()\n",
    "\n",
    "    cpt = 0\n",
    "\n",
    "    for i in range(0, len(lines)-3):\n",
    "        if lines[i] < lines[i+3]:\n",
    "            cpt += 1\n",
    "\n",
    "print(cpt)"
   ]
  }
 ],
 "metadata": {
  "interpreter": {
   "hash": "f5713f8677c27f224e5e65d98106d219376b7d4d984342148257ae592d58b2cb"
  },
  "kernelspec": {
   "display_name": "Python 3.8.8 64-bit ('base': conda)",
   "language": "python",
   "name": "python3"
  },
  "language_info": {
   "codemirror_mode": {
    "name": "ipython",
    "version": 3
   },
   "file_extension": ".py",
   "mimetype": "text/x-python",
   "name": "python",
   "nbconvert_exporter": "python",
   "pygments_lexer": "ipython3",
   "version": "3.8.8"
  },
  "orig_nbformat": 4
 },
 "nbformat": 4,
 "nbformat_minor": 2
}
