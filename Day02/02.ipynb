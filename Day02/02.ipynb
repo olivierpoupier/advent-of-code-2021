{
 "cells": [
  {
   "cell_type": "markdown",
   "metadata": {},
   "source": [
    "Based on your calculations, the planned course doesn't seem to make any sense. You find the submarine manual and discover that the process is actually slightly more complicated.\n",
    "\n",
    "In addition to horizontal position and depth, you'll also need to track a third value, <b>aim</b>, which also starts at `0`. The commands also mean something entirely different than you first thought:\n",
    "\n",
    "* `down X` <b>increases</b> your aim by `X` units.\n",
    "* `up X` <b>decreases</b> your aim by `X` units.\n",
    "* `forward X` does two things:\n",
    "    * It increases your horizontal position by `X` units.\n",
    "    * It increases your depth by your aim <b>multiplied by</b> `X`.\n",
    "\n",
    "Again note that since you're on a submarine, `down` and `up` do the opposite of what you might expect: \"down\" means aiming in the positive direction.\n",
    "\n",
    "Now, the above example does something different:\n",
    "\n",
    "* `forward 5` adds `5` to your horizontal position, a total of `5`. Because your aim is `0`, your depth does not change.\n",
    "* `down 5` adds `5` to your aim, resulting in a value of `5`.\n",
    "* `forward 8` adds `8` to your horizontal position, a total of `13`. Because your aim is `5`, your depth increases by `8*5=40`.\n",
    "* `up 3` decreases `y`our aim by `3`, resulting in a value of `2`.\n",
    "* `down 8` adds `8` to your aim, resulting in a value of `10`.\n",
    "* `forward 2` adds `2` to your horizontal position, a total of `15`. Because your aim is `10`, your depth increases by `2*10=20` to a total of `60`.\n",
    "After following these new instructions, you would have a horizontal position of `15` and a depth of `60`. (Multiplying these produces `900`.)\n",
    "\n",
    "Using this new interpretation of the commands, calculate the horizontal position and depth you would have after following the planned course. <b>What do you get if you multiply your final horizontal position by your final depth?</b>"
   ]
  },
  {
   "cell_type": "code",
   "execution_count": 2,
   "metadata": {},
   "outputs": [
    {
     "name": "stdout",
     "output_type": "stream",
     "text": [
      "1463827010\n"
     ]
    }
   ],
   "source": [
    "horizontal = 0\n",
    "aim = 0\n",
    "depth = 0\n",
    "\n",
    "with open('day02-input01.txt') as f:\n",
    "    data = f.readlines()\n",
    "    for l in data:\n",
    "        temp = l.split(' ')\n",
    "        if temp[0] == 'forward':\n",
    "            horizontal += int(temp[1])\n",
    "            depth += int(temp[1])*aim\n",
    "        elif temp[0] == 'up':\n",
    "            aim -= int(temp[1])\n",
    "        else:\n",
    "            aim += int(temp[1])\n",
    "\n",
    "print(horizontal*depth)\n",
    "\n",
    "\n"
   ]
  },
  {
   "cell_type": "code",
   "execution_count": null,
   "metadata": {},
   "outputs": [],
   "source": []
  }
 ],
 "metadata": {
  "interpreter": {
   "hash": "f5713f8677c27f224e5e65d98106d219376b7d4d984342148257ae592d58b2cb"
  },
  "kernelspec": {
   "display_name": "Python 3.8.8 64-bit ('base': conda)",
   "language": "python",
   "name": "python3"
  },
  "language_info": {
   "codemirror_mode": {
    "name": "ipython",
    "version": 3
   },
   "file_extension": ".py",
   "mimetype": "text/x-python",
   "name": "python",
   "nbconvert_exporter": "python",
   "pygments_lexer": "ipython3",
   "version": "3.8.8"
  },
  "orig_nbformat": 4
 },
 "nbformat": 4,
 "nbformat_minor": 2
}
