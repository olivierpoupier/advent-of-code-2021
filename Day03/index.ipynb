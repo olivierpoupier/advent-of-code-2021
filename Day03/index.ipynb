{
 "cells": [
  {
   "cell_type": "markdown",
   "metadata": {},
   "source": [
    "# Binary Diagnostic"
   ]
  },
  {
   "cell_type": "markdown",
   "metadata": {},
   "source": [
    "## Part 1"
   ]
  },
  {
   "cell_type": "markdown",
   "metadata": {},
   "source": [
    "The submarine has been making some odd creaking noises, so you ask it to produce a diagnostic report just in case.\n",
    "\n",
    "The diagnostic report (your puzzle input) consists of a list of binary numbers which, when decoded properly, can tell you many useful things about the conditions of the submarine. The first parameter to check is the <b>power consumption</b>.\n",
    "\n",
    "You need to use the binary numbers in the diagnostic report to generate two new binary numbers (called the <b>gamma rate</b> and the <b>epsilon rate</b>). The power consumption can then be found by multiplying the gamma rate by the epsilon rate.\n",
    "\n",
    "Each bit in the gamma rate can be determined by finding the <b>most common bit in the corresponding position</b> of all numbers in the diagnostic report. For example, given the following diagnostic report:\n",
    "<pre>\n",
    "<code>\n",
    "00100\n",
    "11110\n",
    "10110\n",
    "10111\n",
    "10101\n",
    "01111\n",
    "00111\n",
    "11100\n",
    "10000\n",
    "11001\n",
    "00010\n",
    "01010\n",
    "</code>\n",
    "</pre>\n",
    "Considering only the first bit of each number, there are five `0` bits and seven `1` bits. Since the most common bit is `1`, the first bit of the gamma rate is `1`.\n",
    "\n",
    "The most common second bit of the numbers in the diagnostic report is `0`, so the second bit of the gamma rate is `0`.\n",
    "\n",
    "The most common value of the third, fourth, and fifth bits are `1`, `1`, and `0`, respectively, and so the final three bits of the gamma rate are `110`.\n",
    "\n",
    "So, the gamma rate is the binary number <code>10110</code>, or <code>22</code> in decimal.\n",
    "\n",
    "The epsilon rate is calculated in a similar way; rather than use the most common bit, the least common bit from each position is used. So, the epsilon rate is <code>01001</code>, or <code>9</code> in decimal. Multiplying the gamma rate (<code>22</code>) by the epsilon rate (<code>9</code>) produces the power consumption, <code>198</code>.\n",
    "\n",
    "Use the binary numbers in your diagnostic report to calculate the gamma rate and epsilon rate, then multiply them together. <b>What is the power consumption of the submarine?</b> (Be sure to represent your answer in decimal, not binary.)"
   ]
  },
  {
   "cell_type": "code",
   "execution_count": 2,
   "metadata": {},
   "outputs": [
    {
     "name": "stdout",
     "output_type": "stream",
     "text": [
      "3847100\n"
     ]
    }
   ],
   "source": [
    "f = open('day03-input01.txt', 'r')\n",
    "data = f.readlines()\n",
    "f.close()\n",
    "\n",
    "freq = []\n",
    "for i in range(len(data[0]) - 1):\n",
    "    freq.append(0)\n",
    "    \n",
    "for line in data:\n",
    "    for i in range(len(line) - 1):\n",
    "        if line[i] == '1':\n",
    "            freq[i] += 1\n",
    "        else:\n",
    "            freq[i] -= 1\n",
    "\n",
    "gammaRateB = ''.join(str(int(f > 0)) for f in freq)\n",
    "gammaRateD = int(gammaRateB, 2)\n",
    "epsilonRateB = ''.join(str(int(f < 0)) for f in freq)\n",
    "epsilonRateD = int(epsilonRateB, 2)\n",
    "\n",
    "print(gammaRateD*epsilonRateD)"
   ]
  },
  {
   "cell_type": "markdown",
   "metadata": {},
   "source": [
    "## Part 2"
   ]
  },
  {
   "cell_type": "markdown",
   "metadata": {},
   "source": [
    "Next, you should verify the <b>life support rating</b>, which can be determined by multiplying the <b>oxygen generator rating</b> by the <b>CO2 scrubber rating</b>.\n",
    "\n",
    "Both the oxygen generator rating and the CO2 scrubber rating are values that can be found in your diagnostic report - finding them is the tricky part. Both values are located using a similar process that involves filtering out values until only one remains. Before searching for either rating value, start with the full list of binary numbers from your diagnostic report and <b>consider just the first bit</b> of those numbers. Then:\n",
    "\n",
    "* Keep only numbers selected by the <b>bit criteria</b> for the type of rating value for which you are searching. Discard numbers which do not match the bit criteria.\n",
    "* If you only have one number left, stop; this is the rating value for which you are searching.\n",
    "* Otherwise, repeat the process, considering the next bit to the right.\n",
    "\n",
    "The <b>bit criteria</b> depends on which type of rating value you want to find:\n",
    "\n",
    "* To find <b>oxygen generator rating</b>, determine the <b>most common</b> value (`0` or `1`) in the current bit position, and keep only numbers with that bit in that position. If `0` and `1` are equally common, keep values with a `1` in the position being considered.\n",
    "* To find CO2 scrubber rating, determine the least common value (`0` or `1`) in the current bit position, and keep only numbers with that bit in that position. If `0` and `1` are equally common, keep values with a `0` in the position being considered.\n",
    "\n",
    "For example, to determine the <b>oxygen generator rating</b> value using the same example diagnostic report from above:\n",
    "\n",
    "* Start with all 12 numbers and consider only the first bit of each number. There are more `1` bits (7) than `0` bits (5), so keep only the 7 numbers with a 1 in the first position: 11110, 10110, 10111, 10101, 11100, 10000, and 11001.\n",
    "* Then, consider the second bit of the 7 remaining numbers: there are more `0` bits (4) than `1` bits (3), so keep only the 4 numbers with a `0` in the second position: `10110`, `10111`, `10101`, and `10000`.\n",
    "* In the third position, three of the four numbers have a `1`, so keep those three: `10110`, `10111`, and `10101`.\n",
    "* In the fourth position, two of the three numbers have a `1`, so keep those two: `10110` and `10111`.\n",
    "* In the fifth position, there are an equal number of `0` bits and `1` bits (one each). So, to find the oxygen generator rating, keep the number with a `1` in that position: `10111`.\n",
    "* As there is only one number left, stop; the oxygen generator rating is `10111`, or `23` in decimal.\n",
    "\n",
    "Then, to determine the <b>CO2 scrubber rating</b> value from the same example above:\n",
    "\n",
    "* Start again with all 12 numbers and consider only the first bit of each number. There are fewer `0` bits (5) than `1` bits (7), so keep only the 5 numbers with a `0` in the first position: `00100`, `01111`, `00111`, `00010`, and `01010`.\n",
    "* Then, consider the second bit of the 5 remaining numbers: there are fewer 1 bits (2) than 0 bits (3), so keep only the 2 numbers with a `1` in the second position: `01111` and `01010`.\n",
    "* In the third position, there are an equal number of `0` bits and `1` bits (one each). So, to find the <b>CO2 scrubber rating</b>, keep the number with a `0` in that position: `01010`.\n",
    "* As there is only one number left, stop; the <b>CO2 scrubber rating</b> is `01010`, or `10` in decimal.\n",
    "\n",
    "Finally, to find the life support rating, multiply the oxygen generator rating (23) by the <b>CO2 scrubber rating</b> (`10`) to get `230`.\n",
    "\n",
    "Use the binary numbers in your diagnostic report to calculate the oxygen generator rating and <b>CO2 scrubber rating</b>, then multiply them together. <b>What is the life support rating of the submarine?</b>(Be sure to represent your answer in decimal, not binary.)"
   ]
  },
  {
   "cell_type": "code",
   "execution_count": 34,
   "metadata": {},
   "outputs": [
    {
     "name": "stdout",
     "output_type": "stream",
     "text": [
      "4105235\n"
     ]
    }
   ],
   "source": [
    "def filterList(data, mostCommon=True):\n",
    "    newList = [x for x in data]\n",
    "\n",
    "    for bit in reversed(bits):\n",
    "        ratio = sum(1 for num in newList if num & bit) / len(newList)\n",
    "        wanted_bit_value = bit * int((ratio >= 0.5) == mostCommon)\n",
    "        newList = [x for x in newList if x & bit == wanted_bit_value]\n",
    "\n",
    "        if len(newList) == 1:\n",
    "            break\n",
    "\n",
    "    return newList[0]\n",
    "\n",
    "oxyrate = filterList(data)\n",
    "co2rate = filterList(data, mostCommon=False)\n",
    "\n",
    "print(oxyrate * co2rate)\n"
   ]
  }
 ],
 "metadata": {
  "interpreter": {
   "hash": "f5713f8677c27f224e5e65d98106d219376b7d4d984342148257ae592d58b2cb"
  },
  "kernelspec": {
   "display_name": "Python 3.8.8 64-bit ('base': conda)",
   "language": "python",
   "name": "python3"
  },
  "language_info": {
   "codemirror_mode": {
    "name": "ipython",
    "version": 3
   },
   "file_extension": ".py",
   "mimetype": "text/x-python",
   "name": "python",
   "nbconvert_exporter": "python",
   "pygments_lexer": "ipython3",
   "version": "3.8.8"
  },
  "orig_nbformat": 4
 },
 "nbformat": 4,
 "nbformat_minor": 2
}
