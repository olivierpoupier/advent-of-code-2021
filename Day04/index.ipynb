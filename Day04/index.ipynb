{
 "cells": [
  {
   "cell_type": "markdown",
   "metadata": {},
   "source": [
    "# Giant Squid"
   ]
  },
  {
   "cell_type": "markdown",
   "metadata": {},
   "source": [
    "## Part 1"
   ]
  },
  {
   "cell_type": "code",
   "execution_count": 1,
   "metadata": {},
   "outputs": [
    {
     "name": "stdout",
     "output_type": "stream",
     "text": [
      "[[78, 80, 98, 62, 87], [90, 53, 91, 81, 23], [46, 15, 4, 63, 74], [30, 6, 47, 64, 44], [12, 45, 95, 68, 99]]\n",
      "30\n",
      "[78, 80, 98, 62, 53, 91, 81, 15, 63, 6, 64, 45, 95, 68, 99]\n",
      "998\n",
      "98802\n"
     ]
    }
   ],
   "source": [
    "boards = []\n",
    "called_numbers = []\n",
    "\n",
    "with open('day04-input01.txt', 'r') as f:\n",
    "    data = f.readlines()\n",
    "    called_numbers = [int(n) for n in data[0].strip().split(',')]\n",
    "    board = []\n",
    "\n",
    "    for i in range(2, len(data)):\n",
    "        if data[i] == '\\n':\n",
    "            boards.append(board)\n",
    "            board = []\n",
    "        else:\n",
    "            board.append([int(n) for n in data[i].strip().split(' ') if n != ''])\n",
    "\n",
    "smallest_board = ''\n",
    "smallest_index = len(called_numbers)\n",
    "\n",
    "\n",
    "for x in range(len(boards)):\n",
    "    board = boards[x]\n",
    "    \n",
    "    # iterate through each row\n",
    "    for i in range(0, 5):\n",
    "        row = board[i]\n",
    "        if all(n in called_numbers for n in row):\n",
    "            biggest_index_board = max([called_numbers.index(n) for n in row])\n",
    "            if  biggest_index_board < smallest_index:\n",
    "                smallest_board = board\n",
    "                smallest_index = biggest_index_board\n",
    "\n",
    "    # iterate over all columns\n",
    "    for i in range(0, 5):\n",
    "        # check if column is bingo\n",
    "        column = [board[j][i] for j in range(0, 5)]\n",
    "        # check if all column numbers are in called_numbers \n",
    "        if all(n in called_numbers for n in column):\n",
    "            biggest_index_board = max([called_numbers.index(n) for n in column])\n",
    "            if  biggest_index_board < smallest_index:\n",
    "                smallest_board = board\n",
    "                smallest_index = biggest_index_board\n",
    "\n",
    "print(smallest_board)\n",
    "print(smallest_index)\n",
    "\n",
    "board_numbers = []\n",
    "for row in smallest_board:\n",
    "    board_numbers.extend([n for n in row if n not in called_numbers[:smallest_index]])\n",
    "\n",
    "print(board_numbers)\n",
    "\n",
    "board_numbers_sum = sum(board_numbers)\n",
    "\n",
    "print(board_numbers_sum)\n",
    "\n",
    "print(board_numbers_sum * called_numbers[smallest_index])\n",
    "\n",
    "# for pt 2 just get biggest index of called numbers instead of smallest index\n"
   ]
  },
  {
   "cell_type": "code",
   "execution_count": null,
   "metadata": {},
   "outputs": [],
   "source": []
  }
 ],
 "metadata": {
  "interpreter": {
   "hash": "f5713f8677c27f224e5e65d98106d219376b7d4d984342148257ae592d58b2cb"
  },
  "kernelspec": {
   "display_name": "Python 3.8.8 64-bit ('base': conda)",
   "language": "python",
   "name": "python3"
  },
  "language_info": {
   "codemirror_mode": {
    "name": "ipython",
    "version": 3
   },
   "file_extension": ".py",
   "mimetype": "text/x-python",
   "name": "python",
   "nbconvert_exporter": "python",
   "pygments_lexer": "ipython3",
   "version": "3.8.8"
  },
  "orig_nbformat": 4
 },
 "nbformat": 4,
 "nbformat_minor": 2
}
