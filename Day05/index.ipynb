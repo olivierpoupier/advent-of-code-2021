{
 "cells": [
  {
   "cell_type": "markdown",
   "metadata": {},
   "source": [
    "# Hydrothermal Venture"
   ]
  },
  {
   "cell_type": "markdown",
   "metadata": {},
   "source": [
    "## Part 1"
   ]
  },
  {
   "cell_type": "markdown",
   "metadata": {},
   "source": [
    "You come across a field of [hydrothermal vents](https://en.wikipedia.org/wiki/Hydrothermal_vent) on the ocean floor! These vents constantly produce large, opaque clouds, so it would be best to avoid them if possible.\n",
    "\n",
    "They tend to form in <b>lines</b>; the submarine helpfully produces a list of nearby lines of vents (your puzzle input) for you to review. For example:\n",
    "<pre>\n",
    "<code>\n",
    "0,9 -> 5,9\n",
    "8,0 -> 0,8\n",
    "9,4 -> 3,4\n",
    "2,2 -> 2,1\n",
    "7,0 -> 7,4\n",
    "6,4 -> 2,0\n",
    "0,9 -> 2,9\n",
    "3,4 -> 1,4\n",
    "0,0 -> 8,8\n",
    "5,5 -> 8,2\n",
    "</code>\n",
    "</pre>\n",
    "Each line of vents is given as a line segment in the format `x1,y1 -> x2,y2` where `x1,y1` are the coordinates of one end the line segment and `x2,y2` are the coordinates of the other end. These line segments include the points at both ends. In other words:\n",
    "* An entry like `1,1 -> 1,3` covers points `1,1`, `1,2`, and `1,3`.\n",
    "* An entry like `9,7 -> 7,7` covers points `9,7`, `8,7`, and `7,7`.\n",
    "\n",
    "For now, <b>only consider horizontal and vertical lines</b>: lines where either `x1 = x2` or `y1 = y2`.\n",
    "\n",
    "So, the horizontal and vertical lines from the above list would produce the following diagram:\n",
    "<pre>\n",
    "<code>\n",
    ".......1..\n",
    "..1....1..\n",
    "..1....1..\n",
    ".......1..\n",
    ".112111211\n",
    "..........\n",
    "..........\n",
    "..........\n",
    "..........\n",
    "222111....\n",
    "</code>\n",
    "</pre>\n",
    "In this diagram, the top left corner is `0,0` and the bottom right corner is `9,9`. Each position is shown as <b>the number of lines which cover that point</b> or `.` if no line covers that point. The top-left pair of `1`s, for example, comes from `2,2 -> 2,1`; the very bottom row is formed by the overlapping lines `0,9 -> 5,9` and `0,9 -> 2,9`.\n",
    "\n",
    "To avoid the most dangerous areas, you need to determine <b>the number of points where at least two lines overlap</b>. In the above example, this is anywhere in the diagram with a `2` or larger - a total of `5` points.\n",
    "\n",
    "Consider only horizontal and vertical lines. <b>At how many points do at least two lines overlap?</b>"
   ]
  },
  {
   "cell_type": "code",
   "execution_count": 6,
   "metadata": {},
   "outputs": [
    {
     "name": "stdout",
     "output_type": "stream",
     "text": [
      "7380\n"
     ]
    }
   ],
   "source": [
    "data = []\n",
    "\n",
    "with open('day05-input01.txt') as f:\n",
    "    data = f.readlines()\n",
    "    data = [[list(map(int, c.split(','))) for c in x.split(' -> ')] for x in data]\n",
    "\n",
    "diagram = [[0 for x in range(1000)] for y in range(1000)]\n",
    "\n",
    "# only keep vertical/horizontal lines\n",
    "for line in data:\n",
    "    if line[0][0] == line[1][0] or line[0][1] == line[1][1]:\n",
    "        if line[0][0] == line[1][0]:\n",
    "            l = list(zip([line[0][0]] * (abs(line[0][1] - line[1][1]) + 1), range(min(line[0][1], line[1][1]), max(line[0][1], line[1][1]) + 1)))\n",
    "        elif line[0][1] == line[1][1]:\n",
    "            l = list(zip(range(min(line[0][0], line[1][0]), max(line[0][0], line[1][0]) + 1), [line[0][1]] * (abs(line[0][0] - line[1][0]) + 1)))\n",
    "        else:\n",
    "            s = 1 if line[0][0] < line[1][0] else -1\n",
    "            t = 1 if line[0][1] < line[1][1] else -1\n",
    "            l = [(line[0][0] + i * s, line[0][1] + i * t) for i in range(abs(line[0][0] - line[1][0]) + 1)]\n",
    "        \n",
    "        for i in l:\n",
    "            diagram[i[0]][i[1]] += 1\n",
    "        \n",
    "\n",
    "\n",
    "# find the number of nodes with more than one line\n",
    "count = 0\n",
    "for i in range(1000):\n",
    "    for j in range(1000):\n",
    "        if diagram[i][j] > 1:\n",
    "            count += 1\n",
    "\n",
    "print(count)\n",
    "\n",
    "\n"
   ]
  },
  {
   "cell_type": "markdown",
   "metadata": {},
   "source": [
    "## Part 2"
   ]
  },
  {
   "cell_type": "markdown",
   "metadata": {},
   "source": [
    "Unfortunately, considering only horizontal and vertical lines doesn't give you the full picture; you need to also consider **diagonal lines**.\n",
    "\n",
    "Because of the limits of the hydrothermal vent mapping system, the lines in your list will only ever be horizontal, vertical, or a diagonal line at exactly 45 degrees. In other words:\n",
    "\n",
    "An entry like `1,1 -> 3,3` covers points `1,1`, `2,2`, and `3,3`.\n",
    "An entry like `9,7` -> `7,9` covers points `9,7`, `8,8`, and `7,9`.\n",
    "Considering all lines from the above example would now produce the following diagram:\n",
    "<pre>\n",
    "<code>\n",
    "1.1....11.\n",
    ".111...2..\n",
    "..2.1.111.\n",
    "...1.2.2..\n",
    ".112313211\n",
    "...1.2....\n",
    "..1...1...\n",
    ".1.....1..\n",
    "1.......1.\n",
    "222111....\n",
    "</code>\n",
    "</pre>\n",
    "You still need to determine **the number of points where at least two lines overlap**. In the above example, this is still anywhere in the diagram with a `2` or larger - now a total of `12` points.\n",
    "\n",
    "Consider all of the lines. **At how many points do at least two lines overlap?**"
   ]
  },
  {
   "cell_type": "code",
   "execution_count": 2,
   "metadata": {},
   "outputs": [
    {
     "name": "stdout",
     "output_type": "stream",
     "text": [
      "21373\n"
     ]
    }
   ],
   "source": [
    "data = []\n",
    "\n",
    "with open('day05-input01.txt') as f:\n",
    "    data = f.readlines()\n",
    "    data = [[list(map(int, c.split(','))) for c in x.split(' -> ')] for x in data]\n",
    "\n",
    "diagram = [[0 for x in range(1000)] for y in range(1000)]\n",
    "\n",
    "# find the number of nodes of diagram with more than one line: diagram[i][j] > 1\n",
    "# include horizontal, vertical and diagonal lines\n",
    "\n",
    "for line in data:\n",
    "    if line[0][0] == line[1][0]:\n",
    "        l = list(zip([line[0][0]] * (abs(line[0][1] - line[1][1]) + 1), range(min(line[0][1], line[1][1]), max(line[0][1], line[1][1]) + 1)))\n",
    "    elif line[0][1] == line[1][1]:\n",
    "        l = list(zip(range(min(line[0][0], line[1][0]), max(line[0][0], line[1][0]) + 1), [line[0][1]] * (abs(line[0][0] - line[1][0]) + 1)))\n",
    "    else:\n",
    "        s = 1 if line[0][0] < line[1][0] else -1\n",
    "        t = 1 if line[0][1] < line[1][1] else -1\n",
    "        l = [(line[0][0] + i * s, line[0][1] + i * t) for i in range(abs(line[0][0] - line[1][0]) + 1)]\n",
    "    \n",
    "    for i in l:\n",
    "        diagram[i[0]][i[1]] += 1\n",
    "\n",
    "\n",
    "\n",
    "# find the number of nodes with more than one line\n",
    "count = 0\n",
    "for i in range(1000):\n",
    "    for j in range(1000):\n",
    "        if diagram[i][j] > 1:\n",
    "            count += 1\n",
    "\n",
    "print(count)"
   ]
  }
 ],
 "metadata": {
  "interpreter": {
   "hash": "f5713f8677c27f224e5e65d98106d219376b7d4d984342148257ae592d58b2cb"
  },
  "kernelspec": {
   "display_name": "Python 3.8.8 64-bit ('base': conda)",
   "language": "python",
   "name": "python3"
  },
  "language_info": {
   "codemirror_mode": {
    "name": "ipython",
    "version": 3
   },
   "file_extension": ".py",
   "mimetype": "text/x-python",
   "name": "python",
   "nbconvert_exporter": "python",
   "pygments_lexer": "ipython3",
   "version": "3.8.8"
  },
  "orig_nbformat": 4
 },
 "nbformat": 4,
 "nbformat_minor": 2
}
