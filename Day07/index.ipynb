{
 "cells": [
  {
   "cell_type": "markdown",
   "metadata": {},
   "source": [
    "# Day 7: The Treachery of Whales"
   ]
  },
  {
   "cell_type": "markdown",
   "metadata": {},
   "source": [
    "## Part 1"
   ]
  },
  {
   "cell_type": "markdown",
   "metadata": {},
   "source": [
    "A giant [whale](https://en.wikipedia.org/wiki/Sperm_whale) has decided your submarine is its next meal, and it's much faster than you are. There's nowhere to run!\n",
    "\n",
    "Suddenly, a swarm of crabs (each in its own tiny submarine - it's too deep for them otherwise) zooms in to rescue you! They seem to be preparing to blast a hole in the ocean floor; sensors indicate a **massive underground cave system** just beyond where they're aiming!\n",
    "\n",
    "The crab submarines all need to be aligned before they'll have enough power to blast a large enough hole for your submarine to get through. However, it doesn't look like they'll be aligned before the whale catches you! Maybe you can help?\n",
    "\n",
    "There's one major catch - crab submarines can only move horizontally.\n",
    "\n",
    "You quickly make a list of **the horizontal position of each crab** (your puzzle input). Crab submarines have limited fuel, so you need to find a way to make all of their horizontal positions match while requiring them to spend as little fuel as possible.\n",
    "\n",
    "For example, consider the following horizontal positions:\n",
    "\n",
    "`16,1,2,0,4,2,7,1,2,14`\n",
    "\n",
    "This means there's a crab with horizontal position `16`, a crab with horizontal position `1`, and so on.\n",
    "\n",
    "Each change of 1 step in horizontal position of a single crab costs 1 fuel. You could choose any horizontal position to align them all on, but the one that costs the least fuel is horizontal position `2`:\n",
    "\n",
    "* Move from `16` to `2`: `14` fuel\n",
    "* Move from `1` to `2`: `1` fuel\n",
    "* Move from `2` to `2`: `0` fuel\n",
    "* Move from `0` to `2`: `2` fuel\n",
    "* Move from `4` to `2`: `2` fuel\n",
    "* Move from `2` to `2`: `0` fuel\n",
    "* Move from `7` to `2`: `5` fuel\n",
    "* Move from `1` to `2`: `1` fuel\n",
    "* Move from `2` to `2`: `0` fuel\n",
    "* Move from `14` to `2`: `12` fuel\n",
    "\n",
    "This costs a total of `37` fuel. This is the cheapest possible outcome; more expensive outcomes include aligning at position `1` (`41` fuel), position `3` (`39` fuel), or position `10` (`71` fuel).\n",
    "\n",
    "Determine the horizontal position that the crabs can align to using the least fuel possible. **How much fuel must they spend to align to that position?**"
   ]
  },
  {
   "cell_type": "code",
   "execution_count": 9,
   "metadata": {},
   "outputs": [
    {
     "name": "stdout",
     "output_type": "stream",
     "text": [
      "349769\n"
     ]
    }
   ],
   "source": [
    "import math\n",
    "\n",
    "data = []\n",
    "\n",
    "with open('day07-input01.txt', 'r') as f:\n",
    "    data = [int(i) for i in f.readline().split(',')]\n",
    "\n",
    "# sort data\n",
    "data.sort()\n",
    "mean = data[math.floor(len(data) / 2)]\n",
    "\n",
    "total_gas = 0\n",
    "\n",
    "for pos in data:\n",
    "    total_gas += abs(mean-pos)\n",
    "\n",
    "print(total_gas)"
   ]
  },
  {
   "cell_type": "markdown",
   "metadata": {},
   "source": [
    "## Part 2"
   ]
  },
  {
   "cell_type": "markdown",
   "metadata": {},
   "source": [
    "The crabs don't seem interested in your proposed solution. Perhaps you misunderstand crab engineering?\n",
    "\n",
    "As it turns out, crab submarine engines don't burn fuel at a constant rate. Instead, each change of 1 step in horizontal position costs 1 more unit of fuel than the last: the first step costs `1`, the second step costs `2`, the third step costs `3`, and so on.\n",
    "\n",
    "As each crab moves, moving further becomes more expensive. This changes the best horizontal position to align them all on; in the example above, this becomes `5`:\n",
    "\n",
    "* Move from `16` to `5`: `66` fuel\n",
    "* Move from `1` to `5`: `10` fuel\n",
    "* Move from `2` to `5`: `6` fuel\n",
    "* Move from `0` to `5`: `15` fuel\n",
    "* Move from `4` to `5`: `1` fuel\n",
    "* Move from `2` to `5`: `6` fuel\n",
    "* Move from `7` to `5`: `3` fuel\n",
    "* Move from `1` to `5`: `10` fuel\n",
    "* Move from `2` to `5`: `6` fuel\n",
    "* Move from `14` to `5`: `45` fuel\n",
    "\n",
    "This costs a total of `168` fuel. This is the new cheapest possible outcome; the old alignment position (`2`) now costs `206` fuel instead.\n",
    "\n",
    "Determine the horizontal position that the crabs can align to using the least fuel possible so they can make you an escape route! **How much fuel must they spend to align to that position?**"
   ]
  },
  {
   "cell_type": "markdown",
   "metadata": {},
   "source": [
    "Read this [paper](https://www.reddit.com/r/adventofcode/comments/rawxad/2021_day_7_part_2_i_wrote_a_paper_on_todays/?utm_source=share&utm_medium=web2x&context=3) to better understand the problem:\n",
    "\n",
    "<iframe id=\"reddit-embed\" src=\"https://www.redditmedia.com/r/adventofcode/comments/rawxad/2021_day_7_part_2_i_wrote_a_paper_on_todays/?ref_source=embed&amp;ref=share&amp;embed=true&amp;theme=dark\" sandbox=\"allow-scripts allow-same-origin allow-popups\" style=\"border: none;\" height=\"297\" width=\"640\" scrolling=\"no\"></iframe>"
   ]
  },
  {
   "cell_type": "code",
   "execution_count": 21,
   "metadata": {},
   "outputs": [
    {
     "name": "stdout",
     "output_type": "stream",
     "text": [
      "99540554.0\n"
     ]
    }
   ],
   "source": [
    "data = []\n",
    "\n",
    "with open('day07-input01.txt', 'r') as f:\n",
    "    data = [int(i) for i in f.readline().split(',')]\n",
    "\n",
    "# sort data\n",
    "data.sort()\n",
    "\n",
    "def gas_required(distance):\n",
    "    return (distance * (distance + 1))/2\n",
    "\n",
    "def sign(x):\n",
    "    if x > 0:\n",
    "        return 1\n",
    "    elif x < 0:\n",
    "        return -1\n",
    "    else:\n",
    "        return 0\n",
    "\n",
    "def mean(arr):\n",
    "    return arr[math.floor(len(arr) / 2)]\n",
    "\n",
    "fuel_costs_by_pos = []\n",
    "\n",
    "for i in range(max(data)+1):\n",
    "    total_fuel_for_pos = 0\n",
    "    for pos in data:\n",
    "        total_fuel_for_pos += gas_required(abs(pos-i))\n",
    "    fuel_costs_by_pos.append(total_fuel_for_pos)\n",
    "\n",
    "\n",
    "print(min(fuel_costs_by_pos))"
   ]
  }
 ],
 "metadata": {
  "interpreter": {
   "hash": "f5713f8677c27f224e5e65d98106d219376b7d4d984342148257ae592d58b2cb"
  },
  "kernelspec": {
   "display_name": "Python 3.8.8 64-bit ('base': conda)",
   "language": "python",
   "name": "python3"
  },
  "language_info": {
   "codemirror_mode": {
    "name": "ipython",
    "version": 3
   },
   "file_extension": ".py",
   "mimetype": "text/x-python",
   "name": "python",
   "nbconvert_exporter": "python",
   "pygments_lexer": "ipython3",
   "version": "3.8.8"
  },
  "orig_nbformat": 4
 },
 "nbformat": 4,
 "nbformat_minor": 2
}
