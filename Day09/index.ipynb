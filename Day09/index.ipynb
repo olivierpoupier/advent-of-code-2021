{
 "cells": [
  {
   "cell_type": "markdown",
   "metadata": {},
   "source": [
    "# Day 9: Smoke Basin"
   ]
  },
  {
   "cell_type": "markdown",
   "metadata": {},
   "source": [
    "## Part 1"
   ]
  },
  {
   "cell_type": "markdown",
   "metadata": {},
   "source": [
    "These caves seem to be [lava tubes](https://en.wikipedia.org/wiki/Lava_tube). Parts are even still volcanically active; small hydrothermal vents release smoke into the caves that slowly settles like rain.\n",
    "\n",
    "If you can model how the smoke flows through the caves, you might be able to avoid it and be that much safer. The submarine generates a heightmap of the floor of the nearby caves for you (your puzzle input).\n",
    "\n",
    "Smoke flows to the lowest point of the area it's in. For example, consider the following heightmap:\n",
    "\n",
    "<pre>\n",
    "<code>\n",
    "2199943210\n",
    "3987894921\n",
    "9856789892\n",
    "8767896789\n",
    "9899965678\n",
    "</code>\n",
    "</pre>\n",
    "\n",
    "Each number corresponds to the height of a particular location, where `9` is the highest and `0` is the lowest a location can be.\n",
    "\n",
    "Your first goal is to find the **low points** - the locations that are lower than any of its adjacent locations. Most locations have four adjacent locations (up, down, left, and right); locations on the edge or corner of the map have three or two adjacent locations, respectively. (Diagonal locations do not count as adjacent.)\n",
    "\n",
    "In the above example, there are **four** low points, all highlighted: two are in the first row (a `1` and a `0`), one is in the third row (a `5`), and one is in the bottom row (also a `5`). All other locations on the heightmap have some lower adjacent location, and so are not low points.\n",
    "\n",
    "The **risk level** of a low point is **1 plus its height**. In the above example, the risk levels of the low points are `2`, `1`, `6`, and `6`. The sum of the risk levels of all low points in the heightmap is therefore **`15`**.\n",
    "\n",
    "Find all of the low points on your heightmap. **What is the sum of the risk levels of all low points on your heightmap?**"
   ]
  },
  {
   "cell_type": "code",
   "execution_count": 9,
   "metadata": {},
   "outputs": [
    {
     "name": "stdout",
     "output_type": "stream",
     "text": [
      "631\n"
     ]
    }
   ],
   "source": [
    "data = []\n",
    "with open('day09-input01.txt') as f:\n",
    "    data = f.readlines()\n",
    "    data = [[int(char) for char in line.strip()] for line in data]\n",
    "\n",
    "def is_lowest_point(i, j, data):\n",
    "    isLowest = True;\n",
    "    current_val = data[i][j]\n",
    "    \n",
    "    if i > 0:\n",
    "        if data[i-1][j] <= current_val:\n",
    "            isLowest = False\n",
    "    if j > 0:\n",
    "        if data[i][j-1] <= current_val:\n",
    "            isLowest = False\n",
    "    if i < len(data)-1:\n",
    "        if data[i+1][j] <= current_val:\n",
    "            isLowest = False\n",
    "    if j < len(data[0])-1:\n",
    "        if data[i][j+1] <= current_val:\n",
    "            isLowest = False\n",
    "\n",
    "    return isLowest\n",
    "\n",
    "low_points_risk = []\n",
    "\n",
    "for i in range(len(data)):\n",
    "    for j in range(len(data[0])):\n",
    "        if is_lowest_point(i, j, data):\n",
    "            low_points_risk.append(data[i][j] + 1)\n",
    "\n",
    "print(sum(low_points_risk))\n"
   ]
  },
  {
   "cell_type": "markdown",
   "metadata": {},
   "source": [
    "## Part 2"
   ]
  },
  {
   "cell_type": "markdown",
   "metadata": {},
   "source": [
    "Next, you need to find the largest basins so you know what areas are most important to avoid.\n",
    "\n",
    "A **basin** is all locations that eventually flow downward to a single low point. Therefore, every low point has a basin, although some basins are very small. Locations of height `9` do not count as being in any basin, and all other locations will always be part of exactly one basin.\n",
    "\n",
    "The **size** of a basin is the number of locations within the basin, including the low point. The example above has four basins.\n",
    "\n",
    "The top-left basin, size `3`:\n",
    "\n",
    "<pre>\n",
    "<code>\n",
    "2199943210\n",
    "3987894921\n",
    "9856789892\n",
    "8767896789\n",
    "9899965678\n",
    "</code>\n",
    "</pre>\n",
    "\n",
    "The top-right basin, size `9`:\n",
    "\n",
    "<pre>\n",
    "<code>\n",
    "2199943210\n",
    "3987894921\n",
    "9856789892\n",
    "8767896789\n",
    "9899965678\n",
    "</code>\n",
    "</pre>\n",
    "\n",
    "The middle basin, size `14`:\n",
    "\n",
    "<pre>\n",
    "<code>\n",
    "2199943210\n",
    "3987894921\n",
    "9856789892\n",
    "8767896789\n",
    "9899965678\n",
    "</code>\n",
    "</pre>\n",
    "\n",
    "The bottom-right basin, size `9`:\n",
    "\n",
    "<pre>\n",
    "<code>\n",
    "2199943210\n",
    "3987894921\n",
    "9856789892\n",
    "8767896789\n",
    "9899965678\n",
    "</code>\n",
    "</pre>\n",
    "\n",
    "Find the three largest basins and multiply their sizes together. In the above example, this is `9 * 14 * 9 = 1134`.\n",
    "\n",
    "**What do you get if you multiply together the sizes of the three largest basins?**"
   ]
  },
  {
   "cell_type": "code",
   "execution_count": 28,
   "metadata": {},
   "outputs": [
    {
     "name": "stdout",
     "output_type": "stream",
     "text": [
      "821560\n"
     ]
    }
   ],
   "source": [
    "data = []\n",
    "with open('day09-input01.txt') as f:\n",
    "    data = f.readlines()\n",
    "    data = [[int(char) for char in line.strip()] for line in data]\n",
    "    \n",
    "basins = []\n",
    "\n",
    "def get_neighbors(data, i, j):\n",
    "    return { x:data[x[0]][x[1]] for x in [(i, j-1), (i, j+1), (i-1, j), (i+1, j)] if -1 not in x and 100 not in x and data[x[0]][x[1]] != 9 }\n",
    "\n",
    "def check_neighbors(data, current_basin_points, more_neighbors):\n",
    "    all_neighbors = {}\n",
    "\n",
    "    for i, j in more_neighbors.keys():\n",
    "        new_neighbors = { x:data[x[0]][x[1]] for x in [(i, j-1), (i, j+1), (i-1, j), (i+1, j)] if -1 not in x and 100 not in x and data[x[0]][x[1]] != 9 and x not in current_basin_points.keys() }\n",
    "        all_neighbors = { **all_neighbors, **new_neighbors }\n",
    "\n",
    "    return all_neighbors\n",
    "\n",
    "def get_basins_by_size(data):\n",
    "    basin_list = []\n",
    "    for i in range(len(data)):\n",
    "        for j in range(len(data[0])):\n",
    "            starting_value = data[i][j]\n",
    "\n",
    "            if (i,j) not in [basin_list[i][j][0] for i in range(len(basin_list)) for j in range(len(basin_list[i]))] and starting_value != 9:\n",
    "                neighbors = get_neighbors(data, i, j)\n",
    "                current_basin_points = { **{ (i,j): starting_value}, **neighbors }\n",
    "                more_neighbors = check_neighbors(data, current_basin_points, neighbors)\n",
    "                current_basin_points = { **current_basin_points, **more_neighbors }\n",
    "\n",
    "                while more_neighbors != {}:\n",
    "                    more_neighbors = check_neighbors(data, current_basin_points, more_neighbors)\n",
    "                    current_basin_points = { **current_basin_points, **more_neighbors }\n",
    "\n",
    "                basin_list.append(sorted(current_basin_points.items()))\n",
    "            else:\n",
    "                continue\n",
    "\n",
    "    out = [len(bl) for bl in basin_list]\n",
    "    out.sort()\n",
    "    return out\n",
    "\n",
    "basins = get_basins_by_size(data)\n",
    "\n",
    "top_three = basins[-3:]\n",
    "print(top_three[0]*top_three[1]*top_three[2])\n"
   ]
  }
 ],
 "metadata": {
  "interpreter": {
   "hash": "f5713f8677c27f224e5e65d98106d219376b7d4d984342148257ae592d58b2cb"
  },
  "kernelspec": {
   "display_name": "Python 3.8.8 64-bit ('base': conda)",
   "language": "python",
   "name": "python3"
  },
  "language_info": {
   "codemirror_mode": {
    "name": "ipython",
    "version": 3
   },
   "file_extension": ".py",
   "mimetype": "text/x-python",
   "name": "python",
   "nbconvert_exporter": "python",
   "pygments_lexer": "ipython3",
   "version": "3.8.8"
  },
  "orig_nbformat": 4
 },
 "nbformat": 4,
 "nbformat_minor": 2
}
